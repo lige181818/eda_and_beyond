{
  "nbformat": 4,
  "nbformat_minor": 0,
  "metadata": {
    "colab": {
      "provenance": [],
      "toc_visible": true,
      "include_colab_link": true
    },
    "kernelspec": {
      "name": "python3",
      "display_name": "Python 3"
    },
    "language_info": {
      "name": "python"
    }
  },
  "cells": [
    {
      "cell_type": "markdown",
      "metadata": {
        "id": "view-in-github",
        "colab_type": "text"
      },
      "source": [
        "<a href=\"https://colab.research.google.com/github/lige181818/eda_and_beyond/blob/master/Valid_Palindrome.ipynb\" target=\"_parent\"><img src=\"https://colab.research.google.com/assets/colab-badge.svg\" alt=\"Open In Colab\"/></a>"
      ]
    },
    {
      "cell_type": "markdown",
      "source": [
        "# Valid Palindrome\n",
        "\n",
        "Write a function to check is a string a valid palindrome.\n",
        "\n",
        "Palindrome is a word, phrase, or sequence that reads the same backward as forward.\n",
        "\n",
        "The input only contains lower case alphabet characters (`a` to `z`) ."
      ],
      "metadata": {
        "id": "wbCwhBi-ycU5"
      }
    },
    {
      "cell_type": "code",
      "source": [
        "s = 'kayak'\n",
        "# valid_palindrome(s)\n",
        "# return True\n",
        "\n",
        "s = 'aa'\n",
        "# valid_palindrome(s)\n",
        "# return True\n",
        "\n",
        "s = 'abc'\n",
        "# valid_palindrome(s)\n",
        "# return False\n",
        "\n",
        "s = ''\n",
        "# return False"
      ],
      "metadata": {
        "id": "oRvqeygdydBv"
      },
      "execution_count": null,
      "outputs": []
    },
    {
      "cell_type": "markdown",
      "source": [
        "## 😃 General Idea - Two Pointers\n",
        "- Use 2 pointers to check characters on both sides.\n",
        "- One moves from left to right and the other moves from right to left."
      ],
      "metadata": {
        "id": "31qejlFL0QsG"
      }
    },
    {
      "cell_type": "code",
      "source": [
        "def valid_palindrome(s):\n",
        "  # Define empty string to be invalid.\n",
        "  if not s:\n",
        "    return False\n",
        "\n",
        "  # Start with left and right\n",
        "  # pointers at the left and right most\n",
        "  # positions.\n",
        "  left = 0\n",
        "  right = len(s) - 1\n",
        "\n",
        "  while left < right:\n",
        "    # left and right should be at the symmetrical\n",
        "    # positions in the string. If the characters are\n",
        "    # different, return false.\n",
        "    if s[left] != s[right]:\n",
        "      return False\n",
        "\n",
        "    # Move the pointers towards the middle.\n",
        "    left += 1\n",
        "    right -= 1\n",
        "\n",
        "  # After checking all the positions, return true.\n",
        "  return True"
      ],
      "metadata": {
        "id": "CV-gCObyzynD"
      },
      "execution_count": null,
      "outputs": []
    },
    {
      "cell_type": "code",
      "source": [
        "s = 'kayak'\n",
        "print(valid_palindrome(s))\n",
        "\n",
        "s = 'aa'\n",
        "print(valid_palindrome(s))\n",
        "\n",
        "s = 'b'\n",
        "print(valid_palindrome(s))\n",
        "\n",
        "s = 'ab'\n",
        "print(valid_palindrome(s))"
      ],
      "metadata": {
        "colab": {
          "base_uri": "https://localhost:8080/"
        },
        "id": "bSP0Fg9L0heA",
        "outputId": "6ccdbf9b-e7b6-45ec-b299-8e199cb63707"
      },
      "execution_count": null,
      "outputs": [
        {
          "output_type": "stream",
          "name": "stdout",
          "text": [
            "True\n",
            "True\n",
            "True\n",
            "False\n"
          ]
        }
      ]
    },
    {
      "cell_type": "markdown",
      "source": [
        "# Valid Palindrome II\n",
        "\n",
        "Write a function to check is a string a valid palindrome.\n",
        "\n",
        "The string may contain special characters such as `*`, `(`, `space`, `-`, and etc.\n",
        "\n",
        "We need to skip those special characters and check on characters from `a` to `z`."
      ],
      "metadata": {
        "id": "vXu_I5cr35xJ"
      }
    },
    {
      "cell_type": "code",
      "source": [
        "s = 'k-ay!!ak'\n",
        "# valid_palindrome(s)\n",
        "# return True\n",
        "\n",
        "s = 'aa '\n",
        "# valid_palindrome(s)\n",
        "# return True\n",
        "\n",
        "s = 'abc'\n",
        "# valid_palindrome(s)\n",
        "# return False"
      ],
      "metadata": {
        "id": "cDoWWBxr41qh"
      },
      "execution_count": null,
      "outputs": []
    },
    {
      "cell_type": "markdown",
      "source": [
        "We can use the `isalpha` function."
      ],
      "metadata": {
        "id": "PmElAD735vye"
      }
    },
    {
      "cell_type": "code",
      "source": [
        "print('abc'.isalpha())\n",
        "print('('.isalpha())"
      ],
      "metadata": {
        "colab": {
          "base_uri": "https://localhost:8080/"
        },
        "id": "b7WPD-9Z5vPl",
        "outputId": "b398a219-f23a-4972-e7a8-c5b7e4273497"
      },
      "execution_count": null,
      "outputs": [
        {
          "output_type": "stream",
          "name": "stdout",
          "text": [
            "True\n",
            "False\n"
          ]
        }
      ]
    },
    {
      "cell_type": "code",
      "source": [
        "def valid_palindrome(s):\n",
        "  # Start with left and right\n",
        "  # pointers at the left and right most\n",
        "  # positions.\n",
        "  left = 0\n",
        "  right = len(s) - 1\n",
        "\n",
        "  while left < right:\n",
        "    # Find the next alphabet character from the left.\n",
        "    while left < right and not s[left].isalpha():\n",
        "      left += 1\n",
        "\n",
        "    while left < right and not s[right].isalpha():\n",
        "      right -= 1\n",
        "\n",
        "    # Check characters at left and rigth positions.\n",
        "    if s[left] != s[right]:\n",
        "      return False\n",
        "\n",
        "    # Move the pointers towards the middle.\n",
        "    left += 1\n",
        "    right -= 1\n",
        "\n",
        "  # After checking all the positions, return true.\n",
        "  return True"
      ],
      "metadata": {
        "id": "jHVQt4Xk5PFG"
      },
      "execution_count": null,
      "outputs": []
    },
    {
      "cell_type": "code",
      "source": [
        "s = 'k-ay!!ak'\n",
        "print(valid_palindrome(s))\n",
        "\n",
        "s = '@' # Should be False\n",
        "print(valid_palindrome(s))"
      ],
      "metadata": {
        "colab": {
          "base_uri": "https://localhost:8080/"
        },
        "id": "2lVo0ymf8EiA",
        "outputId": "7c24e8d0-121f-4465-8f64-65b800976960"
      },
      "execution_count": null,
      "outputs": [
        {
          "output_type": "stream",
          "name": "stdout",
          "text": [
            "True\n",
            "True\n"
          ]
        }
      ]
    },
    {
      "cell_type": "markdown",
      "source": [
        "## Fix the Edge Case\n",
        "- Count the number of pairs found\n",
        "- Check if there are any pairs found"
      ],
      "metadata": {
        "id": "dBHSTQdzBO7J"
      }
    },
    {
      "cell_type": "code",
      "source": [
        "def valid_palindrome(s):\n",
        "  # Start with left and right\n",
        "  # pointers at the left and right most\n",
        "  # positions.\n",
        "  left = 0\n",
        "  right = len(s) - 1\n",
        "\n",
        "  # Character pairs\n",
        "  char_pair = 0\n",
        "\n",
        "  while left < right:\n",
        "    # Find the next alphabet character from the left.\n",
        "    while left < right and not s[left].isalpha():\n",
        "      left += 1\n",
        "\n",
        "    while left < right and not s[right].isalpha():\n",
        "      right -= 1\n",
        "\n",
        "    # Check characters at left and right positions.\n",
        "    if s[left] != s[right]:\n",
        "      return False\n",
        "    elif s[left].isalpha():\n",
        "      # Increase the count if the pairs are found\n",
        "      # and are also alphabet characters.\n",
        "      char_pair += 1\n",
        "\n",
        "    # Move the pointers towards the middle.\n",
        "    left += 1\n",
        "    right -= 1\n",
        "\n",
        "  # After checking all the positions, return true.\n",
        "  return char_pair > 0"
      ],
      "metadata": {
        "id": "TvTl-sCR8TEy"
      },
      "execution_count": null,
      "outputs": []
    },
    {
      "cell_type": "code",
      "source": [
        "s = 'k-ay!!ak'\n",
        "print(valid_palindrome(s))\n",
        "\n",
        "s = '@@' # Should be False\n",
        "print(valid_palindrome(s))"
      ],
      "metadata": {
        "colab": {
          "base_uri": "https://localhost:8080/"
        },
        "id": "OlWTVn3DFSZ0",
        "outputId": "bceb09c4-5aaa-4c2c-fef8-29ff6c23563b"
      },
      "execution_count": null,
      "outputs": [
        {
          "output_type": "stream",
          "name": "stdout",
          "text": [
            "True\n",
            "False\n"
          ]
        }
      ]
    },
    {
      "cell_type": "code",
      "source": [],
      "metadata": {
        "id": "wAaJRYdv5X9e"
      },
      "execution_count": null,
      "outputs": []
    }
  ]
}